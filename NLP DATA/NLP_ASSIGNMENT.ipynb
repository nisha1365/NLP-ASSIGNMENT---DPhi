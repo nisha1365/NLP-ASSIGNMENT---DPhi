{
  "nbformat": 4,
  "nbformat_minor": 0,
  "metadata": {
    "colab": {
      "name": "NLP_ASSIGNMENT.ipynb",
      "provenance": []
    },
    "kernelspec": {
      "name": "python3",
      "display_name": "Python 3"
    },
    "language_info": {
      "name": "python"
    }
  },
  "cells": [
    {
      "cell_type": "code",
      "metadata": {
        "id": "fWhTCn__9BmR"
      },
      "source": [
        "import pandas as pd\n",
        "import numpy as np"
      ],
      "execution_count": 2,
      "outputs": []
    },
    {
      "cell_type": "code",
      "metadata": {
        "id": "KhoejedO7HdL"
      },
      "source": [
        "df = pd.read_csv('/content/Train_Data.csv', usecols=['customer_reviews','average_review_rating'])"
      ],
      "execution_count": 14,
      "outputs": []
    },
    {
      "cell_type": "code",
      "metadata": {
        "colab": {
          "base_uri": "https://localhost:8080/",
          "height": 206
        },
        "id": "JNtRkMWX7aah",
        "outputId": "59e8c34f-d983-412e-a19f-01c6c2ae913a"
      },
      "source": [
        "df.head()"
      ],
      "execution_count": 15,
      "outputs": [
        {
          "output_type": "execute_result",
          "data": {
            "text/html": [
              "<div>\n",
              "<style scoped>\n",
              "    .dataframe tbody tr th:only-of-type {\n",
              "        vertical-align: middle;\n",
              "    }\n",
              "\n",
              "    .dataframe tbody tr th {\n",
              "        vertical-align: top;\n",
              "    }\n",
              "\n",
              "    .dataframe thead th {\n",
              "        text-align: right;\n",
              "    }\n",
              "</style>\n",
              "<table border=\"1\" class=\"dataframe\">\n",
              "  <thead>\n",
              "    <tr style=\"text-align: right;\">\n",
              "      <th></th>\n",
              "      <th>customer_reviews</th>\n",
              "      <th>average_review_rating</th>\n",
              "    </tr>\n",
              "  </thead>\n",
              "  <tbody>\n",
              "    <tr>\n",
              "      <th>0</th>\n",
              "      <td>Item was broken // 3.0 // 2 April 2014 // By\\n...</td>\n",
              "      <td>4.5</td>\n",
              "    </tr>\n",
              "    <tr>\n",
              "      <th>1</th>\n",
              "      <td>A wonderful collectors piece // 5.0 // 31 Aug....</td>\n",
              "      <td>4.6</td>\n",
              "    </tr>\n",
              "    <tr>\n",
              "      <th>2</th>\n",
              "      <td>Great sticker collection // 5.0 // 19 Jun. 201...</td>\n",
              "      <td>4.7</td>\n",
              "    </tr>\n",
              "    <tr>\n",
              "      <th>3</th>\n",
              "      <td>Rock and roll cards // 5.0 // 28 July 2013 // ...</td>\n",
              "      <td>5.0</td>\n",
              "    </tr>\n",
              "    <tr>\n",
              "      <th>4</th>\n",
              "      <td>Little fingers big imagination // 5.0 // 4 Mar...</td>\n",
              "      <td>4.2</td>\n",
              "    </tr>\n",
              "  </tbody>\n",
              "</table>\n",
              "</div>"
            ],
            "text/plain": [
              "                                    customer_reviews  average_review_rating\n",
              "0  Item was broken // 3.0 // 2 April 2014 // By\\n...                    4.5\n",
              "1  A wonderful collectors piece // 5.0 // 31 Aug....                    4.6\n",
              "2  Great sticker collection // 5.0 // 19 Jun. 201...                    4.7\n",
              "3  Rock and roll cards // 5.0 // 28 July 2013 // ...                    5.0\n",
              "4  Little fingers big imagination // 5.0 // 4 Mar...                    4.2"
            ]
          },
          "metadata": {},
          "execution_count": 15
        }
      ]
    },
    {
      "cell_type": "code",
      "metadata": {
        "colab": {
          "base_uri": "https://localhost:8080/",
          "height": 206
        },
        "id": "YG_8LS748P0Y",
        "outputId": "27eeaf34-34c0-45c5-995c-df24ae758365"
      },
      "source": [
        "df.sample(5)"
      ],
      "execution_count": 16,
      "outputs": [
        {
          "output_type": "execute_result",
          "data": {
            "text/html": [
              "<div>\n",
              "<style scoped>\n",
              "    .dataframe tbody tr th:only-of-type {\n",
              "        vertical-align: middle;\n",
              "    }\n",
              "\n",
              "    .dataframe tbody tr th {\n",
              "        vertical-align: top;\n",
              "    }\n",
              "\n",
              "    .dataframe thead th {\n",
              "        text-align: right;\n",
              "    }\n",
              "</style>\n",
              "<table border=\"1\" class=\"dataframe\">\n",
              "  <thead>\n",
              "    <tr style=\"text-align: right;\">\n",
              "      <th></th>\n",
              "      <th>customer_reviews</th>\n",
              "      <th>average_review_rating</th>\n",
              "    </tr>\n",
              "  </thead>\n",
              "  <tbody>\n",
              "    <tr>\n",
              "      <th>821</th>\n",
              "      <td>Great Value for money // 5.0 // 14 Jan. 2015 /...</td>\n",
              "      <td>4.7</td>\n",
              "    </tr>\n",
              "    <tr>\n",
              "      <th>5644</th>\n",
              "      <td>Pretty spacer beads // 5.0 // 24 Jun. 2013 // ...</td>\n",
              "      <td>5.0</td>\n",
              "    </tr>\n",
              "    <tr>\n",
              "      <th>701</th>\n",
              "      <td>Value for money // 5.0 // 18 Nov. 2014 // By\\n...</td>\n",
              "      <td>5.0</td>\n",
              "    </tr>\n",
              "    <tr>\n",
              "      <th>4011</th>\n",
              "      <td>Ultra Pro Deck Protectors = Quality // 5.0 // ...</td>\n",
              "      <td>5.0</td>\n",
              "    </tr>\n",
              "    <tr>\n",
              "      <th>5646</th>\n",
              "      <td>Three Stars // 3.0 // 23 July 2015 // By\\n    ...</td>\n",
              "      <td>4.3</td>\n",
              "    </tr>\n",
              "  </tbody>\n",
              "</table>\n",
              "</div>"
            ],
            "text/plain": [
              "                                       customer_reviews  average_review_rating\n",
              "821   Great Value for money // 5.0 // 14 Jan. 2015 /...                    4.7\n",
              "5644  Pretty spacer beads // 5.0 // 24 Jun. 2013 // ...                    5.0\n",
              "701   Value for money // 5.0 // 18 Nov. 2014 // By\\n...                    5.0\n",
              "4011  Ultra Pro Deck Protectors = Quality // 5.0 // ...                    5.0\n",
              "5646  Three Stars // 3.0 // 23 July 2015 // By\\n    ...                    4.3"
            ]
          },
          "metadata": {},
          "execution_count": 16
        }
      ]
    },
    {
      "cell_type": "code",
      "metadata": {
        "colab": {
          "base_uri": "https://localhost:8080/"
        },
        "id": "1E3ODT8X8VLv",
        "outputId": "6e71bc8f-ec3a-4ef2-c103-779d0634786d"
      },
      "source": [
        "df['average_review_rating'].value_counts()"
      ],
      "execution_count": 17,
      "outputs": [
        {
          "output_type": "execute_result",
          "data": {
            "text/plain": [
              "5.0    3870\n",
              "4.0     999\n",
              "4.5     538\n",
              "4.8     425\n",
              "4.7     389\n",
              "4.3     299\n",
              "4.6     282\n",
              "4.4     234\n",
              "4.9     173\n",
              "4.2     159\n",
              "4.1     106\n",
              "3.9       3\n",
              "3.3       2\n",
              "3.6       2\n",
              "3.5       2\n",
              "3.7       2\n",
              "3.0       1\n",
              "Name: average_review_rating, dtype: int64"
            ]
          },
          "metadata": {},
          "execution_count": 17
        }
      ]
    },
    {
      "cell_type": "code",
      "metadata": {
        "colab": {
          "base_uri": "https://localhost:8080/"
        },
        "id": "MtXmzHvh8iO1",
        "outputId": "e04606c7-79b0-4f96-85b1-6ca599fdc195"
      },
      "source": [
        "!pip install git+https://github.com/laxmimerit/preprocess_kgptalkie.git --upgrade --force-reinstall"
      ],
      "execution_count": 18,
      "outputs": [
        {
          "output_type": "stream",
          "name": "stdout",
          "text": [
            "Collecting git+https://github.com/laxmimerit/preprocess_kgptalkie.git\n",
            "  Cloning https://github.com/laxmimerit/preprocess_kgptalkie.git to /tmp/pip-req-build-i1f_hwop\n",
            "  Running command git clone -q https://github.com/laxmimerit/preprocess_kgptalkie.git /tmp/pip-req-build-i1f_hwop\n",
            "Building wheels for collected packages: preprocess-kgptalkie\n",
            "  Building wheel for preprocess-kgptalkie (setup.py) ... \u001b[?25l\u001b[?25hdone\n",
            "  Created wheel for preprocess-kgptalkie: filename=preprocess_kgptalkie-0.1.3-py3-none-any.whl size=11754 sha256=9fc5513eec235a1428d0ce2578c867ff4ab665e62aba10df6e6f53aec77ce9db\n",
            "  Stored in directory: /tmp/pip-ephem-wheel-cache-7jgcca8l/wheels/0d/b3/29/bfe3deffda68980088d17b81331be6667e837ffb4a071bae82\n",
            "Successfully built preprocess-kgptalkie\n",
            "Installing collected packages: preprocess-kgptalkie\n",
            "Successfully installed preprocess-kgptalkie-0.1.3\n"
          ]
        }
      ]
    },
    {
      "cell_type": "code",
      "metadata": {
        "id": "Nbll-V608iaS"
      },
      "source": [
        "import preprocess_kgptalkie as ps\n",
        "import re"
      ],
      "execution_count": 19,
      "outputs": []
    },
    {
      "cell_type": "code",
      "metadata": {
        "id": "Cc_zE8_U8ieJ"
      },
      "source": [
        "def get_clean(x):\n",
        "    x = str(x).lower().replace('\\\\', '').replace('_', ' ')\n",
        "    x = ps.cont_exp(x)\n",
        "    x = ps.remove_emails(x)\n",
        "    x = ps.remove_urls(x)\n",
        "    x = ps.remove_html_tags(x)\n",
        "    x = ps.remove_accented_chars(x)\n",
        "    x = ps.remove_special_chars(x)\n",
        "    x = re.sub(\"(.)\\\\1{2,}\", \"\\\\1\", x)\n",
        "    return x"
      ],
      "execution_count": 21,
      "outputs": []
    },
    {
      "cell_type": "code",
      "metadata": {
        "id": "OdJ5VErY8ig5"
      },
      "source": [
        "df['customer_reviews'] = df['customer_reviews'].apply(lambda x : get_clean(x))"
      ],
      "execution_count": 22,
      "outputs": []
    },
    {
      "cell_type": "code",
      "metadata": {
        "colab": {
          "base_uri": "https://localhost:8080/",
          "height": 206
        },
        "id": "qQ2VqLwI9pbF",
        "outputId": "68702dd3-bdc8-4042-9287-a336774c3ad4"
      },
      "source": [
        "df.head()"
      ],
      "execution_count": 23,
      "outputs": [
        {
          "output_type": "execute_result",
          "data": {
            "text/html": [
              "<div>\n",
              "<style scoped>\n",
              "    .dataframe tbody tr th:only-of-type {\n",
              "        vertical-align: middle;\n",
              "    }\n",
              "\n",
              "    .dataframe tbody tr th {\n",
              "        vertical-align: top;\n",
              "    }\n",
              "\n",
              "    .dataframe thead th {\n",
              "        text-align: right;\n",
              "    }\n",
              "</style>\n",
              "<table border=\"1\" class=\"dataframe\">\n",
              "  <thead>\n",
              "    <tr style=\"text-align: right;\">\n",
              "      <th></th>\n",
              "      <th>customer_reviews</th>\n",
              "      <th>average_review_rating</th>\n",
              "    </tr>\n",
              "  </thead>\n",
              "  <tbody>\n",
              "    <tr>\n",
              "      <th>0</th>\n",
              "      <td>item was broken 30 2 april 2014 by susie q on ...</td>\n",
              "      <td>4.5</td>\n",
              "    </tr>\n",
              "    <tr>\n",
              "      <th>1</th>\n",
              "      <td>a wonderful collectors piece 50 31 aug 2013 by...</td>\n",
              "      <td>4.6</td>\n",
              "    </tr>\n",
              "    <tr>\n",
              "      <th>2</th>\n",
              "      <td>great sticker collection 50 19 jun 2011 by f s...</td>\n",
              "      <td>4.7</td>\n",
              "    </tr>\n",
              "    <tr>\n",
              "      <th>3</th>\n",
              "      <td>rock and roll cards 50 28 july 2013 by tricia ...</td>\n",
              "      <td>5.0</td>\n",
              "    </tr>\n",
              "    <tr>\n",
              "      <th>4</th>\n",
              "      <td>little fingers big imagination 50 4 mar 2014 b...</td>\n",
              "      <td>4.2</td>\n",
              "    </tr>\n",
              "  </tbody>\n",
              "</table>\n",
              "</div>"
            ],
            "text/plain": [
              "                                    customer_reviews  average_review_rating\n",
              "0  item was broken 30 2 april 2014 by susie q on ...                    4.5\n",
              "1  a wonderful collectors piece 50 31 aug 2013 by...                    4.6\n",
              "2  great sticker collection 50 19 jun 2011 by f s...                    4.7\n",
              "3  rock and roll cards 50 28 july 2013 by tricia ...                    5.0\n",
              "4  little fingers big imagination 50 4 mar 2014 b...                    4.2"
            ]
          },
          "metadata": {},
          "execution_count": 23
        }
      ]
    },
    {
      "cell_type": "code",
      "metadata": {
        "id": "psVyvYXQ9peg"
      },
      "source": [
        "from sklearn.feature_extraction.text import TfidfVectorizer\n",
        "from sklearn.model_selection import train_test_split\n",
        "from sklearn.svm import LinearSVC\n",
        "from sklearn.metrics import classification_report"
      ],
      "execution_count": 25,
      "outputs": []
    },
    {
      "cell_type": "code",
      "metadata": {
        "id": "QCXvP6989ph8"
      },
      "source": [
        "tfidf = TfidfVectorizer(max_features = 20000, ngram_range=(1,3), analyzer='char')"
      ],
      "execution_count": 45,
      "outputs": []
    },
    {
      "cell_type": "code",
      "metadata": {
        "id": "bGKAVLGb9pud"
      },
      "source": [
        "X = tfidf.fit_transform(df['customer_reviews'])\n",
        "y = df['average_review_rating'].astype('int')"
      ],
      "execution_count": 51,
      "outputs": []
    },
    {
      "cell_type": "code",
      "metadata": {
        "colab": {
          "base_uri": "https://localhost:8080/"
        },
        "id": "AhW5hN8U-xXa",
        "outputId": "657e0c3e-1211-4ca3-dd1d-1f6c8d131905"
      },
      "source": [
        "X.shape, y.shape"
      ],
      "execution_count": 52,
      "outputs": [
        {
          "output_type": "execute_result",
          "data": {
            "text/plain": [
              "((7486, 15799), (7486,))"
            ]
          },
          "metadata": {},
          "execution_count": 52
        }
      ]
    },
    {
      "cell_type": "code",
      "metadata": {
        "id": "PqJ6ZKTo-14_"
      },
      "source": [
        "X_train, X_test, y_train, y_test = train_test_split(X,y, test_size = 0.2, random_state = 0)\n"
      ],
      "execution_count": 53,
      "outputs": []
    },
    {
      "cell_type": "code",
      "metadata": {
        "colab": {
          "base_uri": "https://localhost:8080/"
        },
        "id": "Um14A8Bh-2GK",
        "outputId": "0b68e542-81ec-4ffa-c301-3a43aaf5ca16"
      },
      "source": [
        "X_train.shape"
      ],
      "execution_count": 54,
      "outputs": [
        {
          "output_type": "execute_result",
          "data": {
            "text/plain": [
              "(5988, 15799)"
            ]
          },
          "metadata": {},
          "execution_count": 54
        }
      ]
    },
    {
      "cell_type": "code",
      "metadata": {
        "colab": {
          "base_uri": "https://localhost:8080/"
        },
        "id": "OSdwOdZu-2Jf",
        "outputId": "3b96be7e-1d17-4839-b170-b78844b7062e"
      },
      "source": [
        "clf = LinearSVC( C= 20, class_weight= 'balanced')\n",
        "clf.fit(X_train, y_train)"
      ],
      "execution_count": 58,
      "outputs": [
        {
          "output_type": "execute_result",
          "data": {
            "text/plain": [
              "LinearSVC(C=20, class_weight='balanced', dual=True, fit_intercept=True,\n",
              "          intercept_scaling=1, loss='squared_hinge', max_iter=1000,\n",
              "          multi_class='ovr', penalty='l2', random_state=None, tol=0.0001,\n",
              "          verbose=0)"
            ]
          },
          "metadata": {},
          "execution_count": 58
        }
      ]
    },
    {
      "cell_type": "code",
      "metadata": {
        "id": "NKObU-8Q-2Nh"
      },
      "source": [
        "y_pred = clf.predict(X_test)"
      ],
      "execution_count": 59,
      "outputs": []
    },
    {
      "cell_type": "code",
      "metadata": {
        "colab": {
          "base_uri": "https://localhost:8080/"
        },
        "id": "kWVLS7PTA6NU",
        "outputId": "c252484e-a1cd-4c2e-8b8d-d88c69a279bc"
      },
      "source": [
        "print(classification_report(y_test, y_pred))"
      ],
      "execution_count": 60,
      "outputs": [
        {
          "output_type": "stream",
          "name": "stdout",
          "text": [
            "              precision    recall  f1-score   support\n",
            "\n",
            "           3       0.00      0.00      0.00         3\n",
            "           4       0.93      0.96      0.95       752\n",
            "           5       0.96      0.93      0.95       743\n",
            "\n",
            "    accuracy                           0.95      1498\n",
            "   macro avg       0.63      0.63      0.63      1498\n",
            "weighted avg       0.94      0.95      0.94      1498\n",
            "\n"
          ]
        },
        {
          "output_type": "stream",
          "name": "stderr",
          "text": [
            "/usr/local/lib/python3.7/dist-packages/sklearn/metrics/_classification.py:1272: UndefinedMetricWarning: Precision and F-score are ill-defined and being set to 0.0 in labels with no predicted samples. Use `zero_division` parameter to control this behavior.\n",
            "  _warn_prf(average, modifier, msg_start, len(result))\n"
          ]
        }
      ]
    },
    {
      "cell_type": "code",
      "metadata": {
        "colab": {
          "base_uri": "https://localhost:8080/"
        },
        "id": "FDi1NNPLCGZ4",
        "outputId": "644a1345-1572-42a5-f417-64b1faa7f1ee"
      },
      "source": [
        "x = 'it was good'\n",
        "x = get_clean(x)\n",
        "vec = tfidf.transform([x])\n",
        "clf.predict(vec)"
      ],
      "execution_count": 65,
      "outputs": [
        {
          "output_type": "execute_result",
          "data": {
            "text/plain": [
              "array([5])"
            ]
          },
          "metadata": {},
          "execution_count": 65
        }
      ]
    },
    {
      "cell_type": "code",
      "metadata": {
        "id": "GUvhtKbECvVy"
      },
      "source": [
        "import matplotlib.pyplot as plt\n",
        "import seaborn as sns\n",
        "\n",
        "import re\n",
        "from nltk.corpus import stopwords\n",
        "\n",
        "from tensorflow.keras.preprocessing.text import Tokenizer\n",
        "from tensorflow.keras.preprocessing.sequence import pad_sequences\n",
        "\n",
        "from sklearn.model_selection import train_test_split\n",
        "from sklearn.utils import class_weight\n",
        "\n",
        "import tensorflow as tf\n",
        "\n",
        "from sklearn.metrics import confusion_matrix"
      ],
      "execution_count": 66,
      "outputs": []
    },
    {
      "cell_type": "code",
      "metadata": {
        "id": "7uJz-7GPCvhg"
      },
      "source": [
        "reviews = df['customer_reviews'].copy()\n",
        "ratings = df['average_review_rating'].copy()"
      ],
      "execution_count": 67,
      "outputs": []
    },
    {
      "cell_type": "code",
      "metadata": {
        "colab": {
          "base_uri": "https://localhost:8080/"
        },
        "id": "y47QxjKvCvkB",
        "outputId": "85f0f224-1eb0-4562-f381-426f508474b0"
      },
      "source": [
        "print(\"Class Distribution:\")\n",
        "print(ratings.value_counts() / len(ratings))"
      ],
      "execution_count": 68,
      "outputs": [
        {
          "output_type": "stream",
          "name": "stdout",
          "text": [
            "Class Distribution:\n",
            "5.0    0.516965\n",
            "4.0    0.133449\n",
            "4.5    0.071867\n",
            "4.8    0.056773\n",
            "4.7    0.051964\n",
            "4.3    0.039941\n",
            "4.6    0.037670\n",
            "4.4    0.031258\n",
            "4.9    0.023110\n",
            "4.2    0.021240\n",
            "4.1    0.014160\n",
            "3.9    0.000401\n",
            "3.3    0.000267\n",
            "3.6    0.000267\n",
            "3.5    0.000267\n",
            "3.7    0.000267\n",
            "3.0    0.000134\n",
            "Name: average_review_rating, dtype: float64\n"
          ]
        }
      ]
    },
    {
      "cell_type": "code",
      "metadata": {
        "id": "03LsO_A_CvnH"
      },
      "source": [
        "labels = ratings.apply(lambda x: 1 if x == 5 else 0)"
      ],
      "execution_count": 69,
      "outputs": []
    },
    {
      "cell_type": "code",
      "metadata": {
        "colab": {
          "base_uri": "https://localhost:8080/"
        },
        "id": "f9YP3S-rCGq1",
        "outputId": "43ff03f5-aa16-48a7-bdc7-a03da7757683"
      },
      "source": [
        "print(\"Class Distribution:\")\n",
        "print(labels.value_counts() / len(labels))"
      ],
      "execution_count": 70,
      "outputs": [
        {
          "output_type": "stream",
          "name": "stdout",
          "text": [
            "Class Distribution:\n",
            "1    0.516965\n",
            "0    0.483035\n",
            "Name: average_review_rating, dtype: float64\n"
          ]
        }
      ]
    },
    {
      "cell_type": "code",
      "metadata": {
        "colab": {
          "base_uri": "https://localhost:8080/"
        },
        "id": "9SLVIOiNDRJf",
        "outputId": "ce1c666c-9c5e-4301-c257-20e52aa7b767"
      },
      "source": [
        "reviews"
      ],
      "execution_count": 71,
      "outputs": [
        {
          "output_type": "execute_result",
          "data": {
            "text/plain": [
              "0       item was broken 30 2 april 2014 by susie q on ...\n",
              "1       a wonderful collectors piece 50 31 aug 2013 by...\n",
              "2       great sticker collection 50 19 jun 2011 by f s...\n",
              "3       rock and roll cards 50 28 july 2013 by tricia ...\n",
              "4       little fingers big imagination 50 4 mar 2014 b...\n",
              "                              ...                        \n",
              "7481    oxford 176 devon somerset f and r man pump lad...\n",
              "7482    high quality product exceeded expectations 50 ...\n",
              "7483    the kids love it 50 23 feb 2014 by milly 99 on...\n",
              "7484    fun educational 40 14 jan 2013 by happy london...\n",
              "7485    well well 50 6 july 2015 by elvira wynter on 6...\n",
              "Name: customer_reviews, Length: 7486, dtype: object"
            ]
          },
          "metadata": {},
          "execution_count": 71
        }
      ]
    },
    {
      "cell_type": "code",
      "metadata": {
        "colab": {
          "base_uri": "https://localhost:8080/"
        },
        "id": "s5PzH0S6DROa",
        "outputId": "478c9724-ad1e-45db-9d0a-e7b24ba6e647"
      },
      "source": [
        "import nltk\n",
        "nltk.download('stopwords')\n",
        "stop_words = stopwords.words('english')\n",
        "stop_words"
      ],
      "execution_count": 73,
      "outputs": [
        {
          "output_type": "stream",
          "name": "stdout",
          "text": [
            "[nltk_data] Downloading package stopwords to /root/nltk_data...\n",
            "[nltk_data]   Unzipping corpora/stopwords.zip.\n"
          ]
        },
        {
          "output_type": "execute_result",
          "data": {
            "text/plain": [
              "['i',\n",
              " 'me',\n",
              " 'my',\n",
              " 'myself',\n",
              " 'we',\n",
              " 'our',\n",
              " 'ours',\n",
              " 'ourselves',\n",
              " 'you',\n",
              " \"you're\",\n",
              " \"you've\",\n",
              " \"you'll\",\n",
              " \"you'd\",\n",
              " 'your',\n",
              " 'yours',\n",
              " 'yourself',\n",
              " 'yourselves',\n",
              " 'he',\n",
              " 'him',\n",
              " 'his',\n",
              " 'himself',\n",
              " 'she',\n",
              " \"she's\",\n",
              " 'her',\n",
              " 'hers',\n",
              " 'herself',\n",
              " 'it',\n",
              " \"it's\",\n",
              " 'its',\n",
              " 'itself',\n",
              " 'they',\n",
              " 'them',\n",
              " 'their',\n",
              " 'theirs',\n",
              " 'themselves',\n",
              " 'what',\n",
              " 'which',\n",
              " 'who',\n",
              " 'whom',\n",
              " 'this',\n",
              " 'that',\n",
              " \"that'll\",\n",
              " 'these',\n",
              " 'those',\n",
              " 'am',\n",
              " 'is',\n",
              " 'are',\n",
              " 'was',\n",
              " 'were',\n",
              " 'be',\n",
              " 'been',\n",
              " 'being',\n",
              " 'have',\n",
              " 'has',\n",
              " 'had',\n",
              " 'having',\n",
              " 'do',\n",
              " 'does',\n",
              " 'did',\n",
              " 'doing',\n",
              " 'a',\n",
              " 'an',\n",
              " 'the',\n",
              " 'and',\n",
              " 'but',\n",
              " 'if',\n",
              " 'or',\n",
              " 'because',\n",
              " 'as',\n",
              " 'until',\n",
              " 'while',\n",
              " 'of',\n",
              " 'at',\n",
              " 'by',\n",
              " 'for',\n",
              " 'with',\n",
              " 'about',\n",
              " 'against',\n",
              " 'between',\n",
              " 'into',\n",
              " 'through',\n",
              " 'during',\n",
              " 'before',\n",
              " 'after',\n",
              " 'above',\n",
              " 'below',\n",
              " 'to',\n",
              " 'from',\n",
              " 'up',\n",
              " 'down',\n",
              " 'in',\n",
              " 'out',\n",
              " 'on',\n",
              " 'off',\n",
              " 'over',\n",
              " 'under',\n",
              " 'again',\n",
              " 'further',\n",
              " 'then',\n",
              " 'once',\n",
              " 'here',\n",
              " 'there',\n",
              " 'when',\n",
              " 'where',\n",
              " 'why',\n",
              " 'how',\n",
              " 'all',\n",
              " 'any',\n",
              " 'both',\n",
              " 'each',\n",
              " 'few',\n",
              " 'more',\n",
              " 'most',\n",
              " 'other',\n",
              " 'some',\n",
              " 'such',\n",
              " 'no',\n",
              " 'nor',\n",
              " 'not',\n",
              " 'only',\n",
              " 'own',\n",
              " 'same',\n",
              " 'so',\n",
              " 'than',\n",
              " 'too',\n",
              " 'very',\n",
              " 's',\n",
              " 't',\n",
              " 'can',\n",
              " 'will',\n",
              " 'just',\n",
              " 'don',\n",
              " \"don't\",\n",
              " 'should',\n",
              " \"should've\",\n",
              " 'now',\n",
              " 'd',\n",
              " 'll',\n",
              " 'm',\n",
              " 'o',\n",
              " 're',\n",
              " 've',\n",
              " 'y',\n",
              " 'ain',\n",
              " 'aren',\n",
              " \"aren't\",\n",
              " 'couldn',\n",
              " \"couldn't\",\n",
              " 'didn',\n",
              " \"didn't\",\n",
              " 'doesn',\n",
              " \"doesn't\",\n",
              " 'hadn',\n",
              " \"hadn't\",\n",
              " 'hasn',\n",
              " \"hasn't\",\n",
              " 'haven',\n",
              " \"haven't\",\n",
              " 'isn',\n",
              " \"isn't\",\n",
              " 'ma',\n",
              " 'mightn',\n",
              " \"mightn't\",\n",
              " 'mustn',\n",
              " \"mustn't\",\n",
              " 'needn',\n",
              " \"needn't\",\n",
              " 'shan',\n",
              " \"shan't\",\n",
              " 'shouldn',\n",
              " \"shouldn't\",\n",
              " 'wasn',\n",
              " \"wasn't\",\n",
              " 'weren',\n",
              " \"weren't\",\n",
              " 'won',\n",
              " \"won't\",\n",
              " 'wouldn',\n",
              " \"wouldn't\"]"
            ]
          },
          "metadata": {},
          "execution_count": 73
        }
      ]
    },
    {
      "cell_type": "code",
      "metadata": {
        "id": "Sfo7RssFDRTN"
      },
      "source": [
        "def process_text(text):\n",
        "    # Let's remove digits and stop words\n",
        "    text = re.sub(r'\\d+', ' ', text)\n",
        "    text = text.split()\n",
        "    text = \" \".join([word for word in text if word.lower().strip() not in stop_words])\n",
        "    return text"
      ],
      "execution_count": 74,
      "outputs": []
    },
    {
      "cell_type": "code",
      "metadata": {
        "id": "879ZjO4GDhUQ"
      },
      "source": [
        "reviews = reviews.apply(process_text)"
      ],
      "execution_count": 75,
      "outputs": []
    },
    {
      "cell_type": "code",
      "metadata": {
        "id": "CY22BUdRDhXG"
      },
      "source": [
        "tokenizer = Tokenizer()\n",
        "tokenizer.fit_on_texts(reviews)\n",
        "\n",
        "vocab_length = len(tokenizer.word_index) + 1\n",
        "\n",
        "sequences = tokenizer.texts_to_sequences(reviews)\n",
        "\n",
        "max_seq_length = np.max(list(map(lambda x: len(x), sequences)))\n",
        "\n",
        "sequences = pad_sequences(sequences, maxlen=max_seq_length, padding='post')"
      ],
      "execution_count": 76,
      "outputs": []
    },
    {
      "cell_type": "code",
      "metadata": {
        "colab": {
          "base_uri": "https://localhost:8080/"
        },
        "id": "aqxMJ5zDDhZ_",
        "outputId": "3a06d443-87ce-4564-85ac-6653aacc0430"
      },
      "source": [
        "sequences"
      ],
      "execution_count": 77,
      "outputs": [
        {
          "output_type": "execute_result",
          "data": {
            "text/plain": [
              "array([[  53,  533,   24, ...,    0,    0,    0],\n",
              "       [ 449,  596,  226, ...,    0,    0,    0],\n",
              "       [   1, 1215,  114, ...,    0,    0,    0],\n",
              "       ...,\n",
              "       [  68,   30,    8, ...,    0,    0,    0],\n",
              "       [  19,  397,    3, ...,    0,    0,    0],\n",
              "       [  10,   10,   22, ...,    0,    0,    0]], dtype=int32)"
            ]
          },
          "metadata": {},
          "execution_count": 77
        }
      ]
    },
    {
      "cell_type": "code",
      "metadata": {
        "id": "-QtDndHhDzak"
      },
      "source": [
        "train_sequences, test_sequences, train_labels, test_labels = train_test_split(sequences, labels, train_size=0.7, random_state=100)"
      ],
      "execution_count": 78,
      "outputs": []
    },
    {
      "cell_type": "code",
      "metadata": {
        "colab": {
          "base_uri": "https://localhost:8080/"
        },
        "id": "fbWKHOTjDzsU",
        "outputId": "4883fe75-5510-46a4-af46-1a3f81218972"
      },
      "source": [
        "sequences.shape"
      ],
      "execution_count": 79,
      "outputs": [
        {
          "output_type": "execute_result",
          "data": {
            "text/plain": [
              "(7486, 679)"
            ]
          },
          "metadata": {},
          "execution_count": 79
        }
      ]
    },
    {
      "cell_type": "code",
      "metadata": {
        "colab": {
          "base_uri": "https://localhost:8080/"
        },
        "id": "-XlML1tYDhdw",
        "outputId": "7663606d-ba3f-4466-fc3a-3214eff15820"
      },
      "source": [
        "class_weight = dict(\n",
        "    enumerate(\n",
        "        class_weight.compute_class_weight(\n",
        "            class_weight='balanced',\n",
        "            classes=labels.unique(),\n",
        "            y=labels\n",
        "        )\n",
        "    )\n",
        ")\n",
        "\n",
        "class_weight"
      ],
      "execution_count": 80,
      "outputs": [
        {
          "output_type": "execute_result",
          "data": {
            "text/plain": [
              "{0: 1.0351216814159292, 1: 0.9671834625322997}"
            ]
          },
          "metadata": {},
          "execution_count": 80
        }
      ]
    },
    {
      "cell_type": "code",
      "metadata": {
        "colab": {
          "base_uri": "https://localhost:8080/",
          "height": 796
        },
        "id": "BdS9cXbyD-td",
        "outputId": "a07c9980-c360-4f3c-bc2d-1c9b7648b0fd"
      },
      "source": [
        "embedding_dim = 64\n",
        "\n",
        "inputs = tf.keras.Input(shape=(max_seq_length,))\n",
        "\n",
        "embedding = tf.keras.layers.Embedding(\n",
        "    input_dim=vocab_length,\n",
        "    output_dim=embedding_dim,\n",
        "    input_length=max_seq_length\n",
        ")(inputs)\n",
        "\n",
        "gru_layer = tf.keras.layers.Bidirectional(\n",
        "    tf.keras.layers.GRU(256, return_sequences=True)\n",
        ")(embedding)\n",
        "\n",
        "flatten = tf.keras.layers.Flatten()(gru_layer)\n",
        "\n",
        "outputs = tf.keras.layers.Dense(1, activation='sigmoid')(flatten)\n",
        "\n",
        "\n",
        "model = tf.keras.Model(inputs, outputs)\n",
        "\n",
        "\n",
        "print(model.summary())\n",
        "tf.keras.utils.plot_model(model)"
      ],
      "execution_count": 81,
      "outputs": [
        {
          "output_type": "stream",
          "name": "stdout",
          "text": [
            "Model: \"model\"\n",
            "_________________________________________________________________\n",
            "Layer (type)                 Output Shape              Param #   \n",
            "=================================================================\n",
            "input_1 (InputLayer)         [(None, 679)]             0         \n",
            "_________________________________________________________________\n",
            "embedding (Embedding)        (None, 679, 64)           2575552   \n",
            "_________________________________________________________________\n",
            "bidirectional (Bidirectional (None, 679, 512)          494592    \n",
            "_________________________________________________________________\n",
            "flatten (Flatten)            (None, 347648)            0         \n",
            "_________________________________________________________________\n",
            "dense (Dense)                (None, 1)                 347649    \n",
            "=================================================================\n",
            "Total params: 3,417,793\n",
            "Trainable params: 3,417,793\n",
            "Non-trainable params: 0\n",
            "_________________________________________________________________\n",
            "None\n"
          ]
        },
        {
          "output_type": "execute_result",
          "data": {
            "image/png": "[encoded data removed]",
            "text/plain": [
              "<IPython.core.display.Image object>"
            ]
          },
          "metadata": {},
          "execution_count": 81
        }
      ]
    },
    {
      "cell_type": "code",
      "metadata": {
        "colab": {
          "base_uri": "https://localhost:8080/"
        },
        "id": "eNCt5VUiEIar",
        "outputId": "2bd0f477-1425-42cc-dede-ce2ab945195b"
      },
      "source": [
        "model.compile(\n",
        "    optimizer='adam',\n",
        "    loss='binary_crossentropy',\n",
        "    metrics=[\n",
        "        'accuracy',\n",
        "        tf.keras.metrics.AUC(name='auc')\n",
        "    ]\n",
        ")\n",
        "\n",
        "history = model.fit(\n",
        "    train_sequences,\n",
        "    train_labels,\n",
        "    validation_split=0.2,\n",
        "    class_weight=class_weight,\n",
        "    batch_size=32,\n",
        "    epochs=2,\n",
        "    callbacks=[\n",
        "        tf.keras.callbacks.EarlyStopping(\n",
        "            monitor='val_accuracy',\n",
        "            patience=2,\n",
        "            restore_best_weights=True\n",
        "        )\n",
        "    ]\n",
        ")"
      ],
      "execution_count": 83,
      "outputs": [
        {
          "output_type": "stream",
          "name": "stdout",
          "text": [
            "Epoch 1/2\n",
            "131/131 [==============================] - 445s 3s/step - loss: 0.5318 - accuracy: 0.8056 - auc: 0.8788 - val_loss: 0.4277 - val_accuracy: 0.8015 - val_auc: 0.9176\n",
            "Epoch 2/2\n",
            "131/131 [==============================] - 447s 3s/step - loss: 0.1947 - accuracy: 0.9213 - auc: 0.9770 - val_loss: 0.4219 - val_accuracy: 0.8302 - val_auc: 0.9121\n"
          ]
        }
      ]
    },
    {
      "cell_type": "code",
      "metadata": {
        "colab": {
          "base_uri": "https://localhost:8080/"
        },
        "id": "BartiLIOEItV",
        "outputId": "173a5868-68bc-4564-d7e0-31b7110ab8cf"
      },
      "source": [
        "model.evaluate(test_sequences, test_labels)"
      ],
      "execution_count": 85,
      "outputs": [
        {
          "output_type": "stream",
          "name": "stdout",
          "text": [
            "71/71 [==============================] - 58s 818ms/step - loss: 0.4142 - accuracy: 0.8281 - auc: 0.9114\n"
          ]
        },
        {
          "output_type": "execute_result",
          "data": {
            "text/plain": [
              "[0.41424572467803955, 0.8281388878822327, 0.9114325046539307]"
            ]
          },
          "metadata": {},
          "execution_count": 85
        }
      ]
    },
    {
      "cell_type": "code",
      "metadata": {
        "id": "WhtKyS6tEI6G"
      },
      "source": [
        "y_true = np.array(test_labels, dtype=np.int)\n",
        "y_pred = np.squeeze(np.array(model.predict(test_sequences) >= 0.5, dtype=np.int))"
      ],
      "execution_count": 86,
      "outputs": []
    },
    {
      "cell_type": "code",
      "metadata": {
        "colab": {
          "base_uri": "https://localhost:8080/",
          "height": 404
        },
        "id": "NbVkG1QzEZzU",
        "outputId": "3f6412cb-1d2a-494b-c5c4-1b962581d400"
      },
      "source": [
        "cm = confusion_matrix(y_true, y_pred)\n",
        "\n",
        "plt.figure(figsize=(6, 6))\n",
        "sns.heatmap(cm, annot=True, vmin=0, fmt='g', cmap='Blues', cbar=False)\n",
        "\n",
        "plt.xlabel(\"Predicted\")\n",
        "plt.xticks(np.arange(2) + 0.5, [\"Low Rating\", \"High Rating\"])\n",
        "\n",
        "plt.ylabel(\"Actual\")\n",
        "plt.yticks(np.arange(2) + 0.5, [\"Low Rating\", \"High Rating\"])\n",
        "\n",
        "plt.title(\"Confusion Matrix\")\n",
        "\n",
        "plt.show()"
      ],
      "execution_count": 87,
      "outputs": [
        {
          "output_type": "display_data",
          "data": {
            "image/png": "[encoded data removed]",
            "text/plain": [
              "<Figure size 432x432 with 1 Axes>"
            ]
          },
          "metadata": {
            "needs_background": "light"
          }
        }
      ]
    },
    {
      "cell_type": "code",
      "metadata": {
        "colab": {
          "base_uri": "https://localhost:8080/"
        },
        "id": "FCtPpcEdJUtz",
        "outputId": "4cf8f451-670f-441c-932d-097df2f43c4c"
      },
      "source": [
        "tf.sparse.reorder"
      ],
      "execution_count": 89,
      "outputs": [
        {
          "output_type": "execute_result",
          "data": {
            "text/plain": [
              "<function tensorflow.python.ops.sparse_ops.sparse_reorder>"
            ]
          },
          "metadata": {},
          "execution_count": 89
        }
      ]
    },
    {
      "cell_type": "code",
      "metadata": {
        "colab": {
          "base_uri": "https://localhost:8080/",
          "height": 206
        },
        "id": "b_e3dbtKEeMx",
        "outputId": "14d71216-4447-425c-dbaa-8c2652f9de6a"
      },
      "source": [
        "test = pd.read_csv('/content/Test_Data.csv', usecols=['customer_reviews'])\n",
        "test.head()\n"
      ],
      "execution_count": 93,
      "outputs": [
        {
          "output_type": "execute_result",
          "data": {
            "text/html": [
              "<div>\n",
              "<style scoped>\n",
              "    .dataframe tbody tr th:only-of-type {\n",
              "        vertical-align: middle;\n",
              "    }\n",
              "\n",
              "    .dataframe tbody tr th {\n",
              "        vertical-align: top;\n",
              "    }\n",
              "\n",
              "    .dataframe thead th {\n",
              "        text-align: right;\n",
              "    }\n",
              "</style>\n",
              "<table border=\"1\" class=\"dataframe\">\n",
              "  <thead>\n",
              "    <tr style=\"text-align: right;\">\n",
              "      <th></th>\n",
              "      <th>customer_reviews</th>\n",
              "    </tr>\n",
              "  </thead>\n",
              "  <tbody>\n",
              "    <tr>\n",
              "      <th>0</th>\n",
              "      <td>Dolls house miniatures // 5.0 // 9 Jan. 2013 /...</td>\n",
              "    </tr>\n",
              "    <tr>\n",
              "      <th>1</th>\n",
              "      <td>Tangled // 4.0 // 16 May 2011 // By\\n    \\n   ...</td>\n",
              "    </tr>\n",
              "    <tr>\n",
              "      <th>2</th>\n",
              "      <td>Okay but that's all // 1.0 // 11 July 2011 // ...</td>\n",
              "    </tr>\n",
              "    <tr>\n",
              "      <th>3</th>\n",
              "      <td>Good quality but take down carefully as the fo...</td>\n",
              "    </tr>\n",
              "    <tr>\n",
              "      <th>4</th>\n",
              "      <td>hilarious // 5.0 // 11 Dec. 2013 // By\\n    \\n...</td>\n",
              "    </tr>\n",
              "  </tbody>\n",
              "</table>\n",
              "</div>"
            ],
            "text/plain": [
              "                                    customer_reviews\n",
              "0  Dolls house miniatures // 5.0 // 9 Jan. 2013 /...\n",
              "1  Tangled // 4.0 // 16 May 2011 // By\\n    \\n   ...\n",
              "2  Okay but that's all // 1.0 // 11 July 2011 // ...\n",
              "3  Good quality but take down carefully as the fo...\n",
              "4  hilarious // 5.0 // 11 Dec. 2013 // By\\n    \\n..."
            ]
          },
          "metadata": {},
          "execution_count": 93
        }
      ]
    },
    {
      "cell_type": "code",
      "metadata": {
        "id": "7RwaKN8eKGpV"
      },
      "source": [
        "def get_clean(x):\n",
        "    x = str(x).lower().replace('\\\\', '').replace('_', ' ')\n",
        "    x = ps.cont_exp(x)\n",
        "    x = ps.remove_emails(x)\n",
        "    x = ps.remove_urls(x)\n",
        "    x = ps.remove_html_tags(x)\n",
        "    x = ps.remove_accented_chars(x)\n",
        "    x = ps.remove_special_chars(x)\n",
        "    x = re.sub(\"(.)\\\\1{2,}\", \"\\\\1\", x)\n",
        "    return x"
      ],
      "execution_count": 94,
      "outputs": []
    },
    {
      "cell_type": "code",
      "metadata": {
        "id": "Sjxth7mRJ5Xs"
      },
      "source": [
        "test['customer_reviews'] = test['customer_reviews'].apply(lambda x : get_clean(x))"
      ],
      "execution_count": 95,
      "outputs": []
    },
    {
      "cell_type": "code",
      "metadata": {
        "colab": {
          "base_uri": "https://localhost:8080/",
          "height": 206
        },
        "id": "SLw0-jdmKo0-",
        "outputId": "1dc91e00-e58f-4c42-ba1f-bb74f59c74e2"
      },
      "source": [
        "test.head()"
      ],
      "execution_count": 96,
      "outputs": [
        {
          "output_type": "execute_result",
          "data": {
            "text/html": [
              "<div>\n",
              "<style scoped>\n",
              "    .dataframe tbody tr th:only-of-type {\n",
              "        vertical-align: middle;\n",
              "    }\n",
              "\n",
              "    .dataframe tbody tr th {\n",
              "        vertical-align: top;\n",
              "    }\n",
              "\n",
              "    .dataframe thead th {\n",
              "        text-align: right;\n",
              "    }\n",
              "</style>\n",
              "<table border=\"1\" class=\"dataframe\">\n",
              "  <thead>\n",
              "    <tr style=\"text-align: right;\">\n",
              "      <th></th>\n",
              "      <th>customer_reviews</th>\n",
              "    </tr>\n",
              "  </thead>\n",
              "  <tbody>\n",
              "    <tr>\n",
              "      <th>0</th>\n",
              "      <td>dolls house miniatures 50 9 jan 2013 by eileen...</td>\n",
              "    </tr>\n",
              "    <tr>\n",
              "      <th>1</th>\n",
              "      <td>tangled 40 16 may 2011 by jenna on 16 may 2011...</td>\n",
              "    </tr>\n",
              "    <tr>\n",
              "      <th>2</th>\n",
              "      <td>okay but that is all 10 11 july 2011 by h vinc...</td>\n",
              "    </tr>\n",
              "    <tr>\n",
              "      <th>3</th>\n",
              "      <td>good quality but take down carefully as the fo...</td>\n",
              "    </tr>\n",
              "    <tr>\n",
              "      <th>4</th>\n",
              "      <td>hilarious 50 11 dec 2013 by lauramcv on 11 dec...</td>\n",
              "    </tr>\n",
              "  </tbody>\n",
              "</table>\n",
              "</div>"
            ],
            "text/plain": [
              "                                    customer_reviews\n",
              "0  dolls house miniatures 50 9 jan 2013 by eileen...\n",
              "1  tangled 40 16 may 2011 by jenna on 16 may 2011...\n",
              "2  okay but that is all 10 11 july 2011 by h vinc...\n",
              "3  good quality but take down carefully as the fo...\n",
              "4  hilarious 50 11 dec 2013 by lauramcv on 11 dec..."
            ]
          },
          "metadata": {},
          "execution_count": 96
        }
      ]
    },
    {
      "cell_type": "code",
      "metadata": {
        "id": "XDKfjaviKxQf"
      },
      "source": [
        "tfidf = TfidfVectorizer(max_features = 20000, ngram_range=(1,3), analyzer='char')"
      ],
      "execution_count": 97,
      "outputs": []
    },
    {
      "cell_type": "code",
      "metadata": {
        "id": "o8mgstXkK7Tt"
      },
      "source": [
        "X = tfidf.fit_transform(test['customer_reviews'])\n"
      ],
      "execution_count": 100,
      "outputs": []
    },
    {
      "cell_type": "code",
      "metadata": {
        "colab": {
          "base_uri": "https://localhost:8080/"
        },
        "id": "C93tSuOBLcBN",
        "outputId": "ead4489c-afc1-443a-dc72-37c1b47515e3"
      },
      "source": [
        "X.shape"
      ],
      "execution_count": 101,
      "outputs": [
        {
          "output_type": "execute_result",
          "data": {
            "text/plain": [
              "(2496, 11564)"
            ]
          },
          "metadata": {},
          "execution_count": 101
        }
      ]
    },
    {
      "cell_type": "code",
      "metadata": {
        "id": "ZfG8lgQALkp0"
      },
      "source": [
        "reviews = test['customer_reviews'].copy()"
      ],
      "execution_count": 106,
      "outputs": []
    },
    {
      "cell_type": "code",
      "metadata": {
        "colab": {
          "base_uri": "https://localhost:8080/"
        },
        "id": "j-mYCyuaO5mT",
        "outputId": "f0dab3cb-36db-434f-cc4c-2ca5cfc8ab00"
      },
      "source": [
        "reviews"
      ],
      "execution_count": 107,
      "outputs": [
        {
          "output_type": "execute_result",
          "data": {
            "text/plain": [
              "0       dolls house miniatures 50 9 jan 2013 by eileen...\n",
              "1       tangled 40 16 may 2011 by jenna on 16 may 2011...\n",
              "2       okay but that is all 10 11 july 2011 by h vinc...\n",
              "3       good quality but take down carefully as the fo...\n",
              "4       hilarious 50 11 dec 2013 by lauramcv on 11 dec...\n",
              "                              ...                        \n",
              "2491    like them but prefer the wooden blocks as i fi...\n",
              "2492    izzy from jack the neverland pirates 50 10 jul...\n",
              "2493    five stars 50 4 nov 2015 by amazon customer on...\n",
              "2494    excellent running engine just had it chipped t...\n",
              "2495    fancy dress 80s theme everybody thought it loo...\n",
              "Name: customer_reviews, Length: 2496, dtype: object"
            ]
          },
          "metadata": {},
          "execution_count": 107
        }
      ]
    },
    {
      "cell_type": "code",
      "metadata": {
        "id": "Z7JQSPHnPDvO"
      },
      "source": [
        "def process_text(text):\n",
        "    # Let's remove digits and stop words\n",
        "    text = re.sub(r'\\d+', ' ', text)\n",
        "    text = text.split()\n",
        "    text = \" \".join([word for word in text if word.lower().strip() not in stop_words])\n",
        "    return text"
      ],
      "execution_count": 109,
      "outputs": []
    },
    {
      "cell_type": "code",
      "metadata": {
        "id": "bj8XyKT4PSbs"
      },
      "source": [
        "reviews = reviews.apply(process_text)"
      ],
      "execution_count": 111,
      "outputs": []
    },
    {
      "cell_type": "code",
      "metadata": {
        "id": "Wu1YOrolPbGl"
      },
      "source": [
        "tokenizer = Tokenizer()\n",
        "tokenizer.fit_on_texts(reviews)\n",
        "\n",
        "vocab_length = len(tokenizer.word_index) + 1\n",
        "\n",
        "sequences = tokenizer.texts_to_sequences(reviews)\n",
        "\n",
        "max_seq_length = np.max(list(map(lambda x: len(x), sequences)))\n",
        "\n",
        "sequences = pad_sequences(sequences, maxlen=max_seq_length, padding='post')"
      ],
      "execution_count": 112,
      "outputs": []
    },
    {
      "cell_type": "code",
      "metadata": {
        "colab": {
          "base_uri": "https://localhost:8080/"
        },
        "id": "h-tHUeI-PbMZ",
        "outputId": "c9dd04a1-1ea8-4c37-d182-840be57f84b0"
      },
      "source": [
        "sequences"
      ],
      "execution_count": 113,
      "outputs": [
        {
          "output_type": "execute_result",
          "data": {
            "text/plain": [
              "array([[ 482,  287, 3380, ...,    0,    0,    0],\n",
              "       [2477,   23, 3382, ...,    0,    0,    0],\n",
              "       [1042,   24,  398, ...,    0,    0,    0],\n",
              "       ...,\n",
              "       [   6,    5,    8, ...,    0,    0,    0],\n",
              "       [  35,  876,  490, ...,    0,    0,    0],\n",
              "       [ 674,  342,  696, ...,    0,    0,    0]], dtype=int32)"
            ]
          },
          "metadata": {},
          "execution_count": 113
        }
      ]
    },
    {
      "cell_type": "code",
      "metadata": {
        "colab": {
          "base_uri": "https://localhost:8080/"
        },
        "id": "0ob8WBYeP131",
        "outputId": "ca750855-c19c-4a2a-d220-d5051aa97da3"
      },
      "source": [
        "sequences.shape"
      ],
      "execution_count": 115,
      "outputs": [
        {
          "output_type": "execute_result",
          "data": {
            "text/plain": [
              "(2496, 612)"
            ]
          },
          "metadata": {},
          "execution_count": 115
        }
      ]
    },
    {
      "cell_type": "code",
      "metadata": {
        "id": "FNtRzyfwTNe6"
      },
      "source": [
        ""
      ],
      "execution_count": 117,
      "outputs": []
    }
  ]
}